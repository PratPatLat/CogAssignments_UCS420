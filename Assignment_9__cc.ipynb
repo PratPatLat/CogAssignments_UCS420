{
  "nbformat": 4,
  "nbformat_minor": 0,
  "metadata": {
    "colab": {
      "provenance": []
    },
    "kernelspec": {
      "name": "python3",
      "display_name": "Python 3"
    },
    "language_info": {
      "name": "python"
    }
  },
  "cells": [
    {
      "cell_type": "code",
      "source": [
        "Q1. Write a unique paragraph (5-6 sentences) about your favorite topic (e.g., sports,\n",
        "technology, food, books, etc.).\n",
        "1. Convert text to lowercase and remove punctuaƟon.\n",
        "2. Tokenize the text into words and sentences.\n",
        "3. Remove stopwords (using NLTK's stopwords list).\n",
        "4. Display word frequency distribuƟon (excluding stopwords)."
      ],
      "metadata": {
        "id": "GzCNqETv9awu"
      },
      "execution_count": null,
      "outputs": []
    },
    {
      "cell_type": "code",
      "source": [
        "import string\n",
        "\n",
        "text = \"\"\"Technology has changed the way we live, work, and interact.\n",
        " From smartphones to artificial intelligence, innovations continue to revolutionize every aspect of our lives.\n",
        " I am particularly fascinated by advancements in machine learning and how they impact industries like healthcare and education.\n",
        " The fast-paced evolution of technology demands that we continuously learn and adapt.\n",
        " In the future, I believe technology will bridge even more gaps between humans and machines.\"\"\"\n",
        "\n",
        "# Lowercase\n",
        "text_lower = text.lower()\n",
        "\n",
        "# Remove punctuation\n",
        "text_no_punct = text_lower.translate(str.maketrans('', '', string.punctuation))\n",
        "print(text_no_punct)\n"
      ],
      "metadata": {
        "colab": {
          "base_uri": "https://localhost:8080/"
        },
        "id": "tVl5ykq-8Eu7",
        "outputId": "89caa6a2-febe-423d-b75b-75475cdc0ea2"
      },
      "execution_count": 4,
      "outputs": [
        {
          "output_type": "stream",
          "name": "stdout",
          "text": [
            "technology has changed the way we live work and interact\n",
            " from smartphones to artificial intelligence innovations continue to revolutionize every aspect of our lives\n",
            " i am particularly fascinated by advancements in machine learning and how they impact industries like healthcare and education\n",
            " the fastpaced evolution of technology demands that we continuously learn and adapt\n",
            " in the future i believe technology will bridge even more gaps between humans and machines\n"
          ]
        }
      ]
    },
    {
      "cell_type": "code",
      "execution_count": 3,
      "metadata": {
        "colab": {
          "base_uri": "https://localhost:8080/"
        },
        "id": "kWLM7XUi6gpP",
        "outputId": "f75990e9-aa75-4757-819d-76d98728abab"
      },
      "outputs": [
        {
          "output_type": "stream",
          "name": "stderr",
          "text": [
            "[nltk_data] Downloading package punkt to /root/nltk_data...\n",
            "[nltk_data]   Package punkt is already up-to-date!\n",
            "[nltk_data] Downloading package punkt_tab to /root/nltk_data...\n",
            "[nltk_data]   Unzipping tokenizers/punkt_tab.zip.\n"
          ]
        },
        {
          "output_type": "stream",
          "name": "stdout",
          "text": [
            "['This', 'is', 'an', 'example', 'sentence', 'without', 'punctuation', '.']\n",
            "['This is a sentence.', 'This is another sentence.']\n"
          ]
        }
      ],
      "source": [
        "import nltk\n",
        "nltk.download('punkt')\n",
        "nltk.download('punkt_tab') # Download the punkt_tab data package\n",
        "from nltk.tokenize import word_tokenize, sent_tokenize\n",
        "\n",
        "# Here, we assign a string to the text_no_punct variable.\n",
        "# Feel free to replace this string with the text you'd like to tokenize.\n",
        "text_no_punct = \"This is an example sentence without punctuation.\"\n",
        "\n",
        "# Word Tokenization\n",
        "words = word_tokenize(text_no_punct)\n",
        "print(words)\n",
        "\n",
        "# Ensure 'text' is also assigned before using sent_tokenize\n",
        "text = \"This is a sentence. This is another sentence.\"\n",
        "# Sentence Tokenization\n",
        "sentences = sent_tokenize(text)\n",
        "print(sentences)"
      ]
    },
    {
      "cell_type": "code",
      "source": [
        "nltk.download('stopwords')\n",
        "from nltk.corpus import stopwords\n",
        "\n",
        "stop_words = set(stopwords.words('english'))\n",
        "\n",
        "# Removing Stopwords\n",
        "filtered_words = [word for word in words if word not in stop_words]\n",
        "print(filtered_words)\n"
      ],
      "metadata": {
        "colab": {
          "base_uri": "https://localhost:8080/"
        },
        "id": "RFfbtkBa8POl",
        "outputId": "4e31e4aa-fed7-437a-c489-69ae759e9721"
      },
      "execution_count": 5,
      "outputs": [
        {
          "output_type": "stream",
          "name": "stdout",
          "text": [
            "['This', 'example', 'sentence', 'without', 'punctuation', '.']\n"
          ]
        },
        {
          "output_type": "stream",
          "name": "stderr",
          "text": [
            "[nltk_data] Downloading package stopwords to /root/nltk_data...\n",
            "[nltk_data]   Unzipping corpora/stopwords.zip.\n"
          ]
        }
      ]
    },
    {
      "cell_type": "code",
      "source": [
        "from nltk import FreqDist\n",
        "\n",
        "freq_dist = FreqDist(filtered_words)\n",
        "freq_dist.plot(20)\n",
        "print(freq_dist.most_common(10))\n"
      ],
      "metadata": {
        "colab": {
          "base_uri": "https://localhost:8080/",
          "height": 536
        },
        "id": "hKJ9_jQb8V8M",
        "outputId": "76941924-f59a-4791-9058-a2b5b8ba97fa"
      },
      "execution_count": 6,
      "outputs": [
        {
          "output_type": "stream",
          "name": "stdout",
          "text": [
            "[('This', 1), ('example', 1), ('sentence', 1), ('without', 1), ('punctuation', 1), ('.', 1)]\n"
          ]
        },
        {
          "output_type": "display_data",
          "data": {
            "text/plain": [
              "<Figure size 640x480 with 1 Axes>"
            ],
            "image/png": "[encoded data removed]"
          },
          "metadata": {}
        }
      ]
    },
    {
      "cell_type": "code",
      "source": [
        "Q2: Stemming and LemmaƟzaƟon\n",
        "1. Take the tokenized words from QuesƟon 1 (aŌer stopword removal).\n",
        "2. Apply stemming using NLTK's PorterStemmer and LancasterStemmer.\n",
        "3. Apply lemmaƟzaƟon using NLTK's WordNetLemmaƟzer.\n",
        "4. Compare and display results of both techniques."
      ],
      "metadata": {
        "id": "avFiP1K89ldO"
      },
      "execution_count": null,
      "outputs": []
    },
    {
      "cell_type": "code",
      "source": [
        "from nltk.stem import PorterStemmer, LancasterStemmer\n",
        "\n",
        "porter = PorterStemmer()\n",
        "lancaster = LancasterStemmer()\n",
        "\n",
        "porter_stemmed = [porter.stem(word) for word in filtered_words]\n",
        "lancaster_stemmed = [lancaster.stem(word) for word in filtered_words]\n",
        "\n",
        "print(\"Porter Stemmer Result:\", porter_stemmed)\n",
        "print(\"Lancaster Stemmer Result:\", lancaster_stemmed)\n"
      ],
      "metadata": {
        "colab": {
          "base_uri": "https://localhost:8080/"
        },
        "id": "U4nsFGCz8d7L",
        "outputId": "5a3c9905-99be-4e56-9c03-20902928afc8"
      },
      "execution_count": 7,
      "outputs": [
        {
          "output_type": "stream",
          "name": "stdout",
          "text": [
            "Porter Stemmer Result: ['thi', 'exampl', 'sentenc', 'without', 'punctuat', '.']\n",
            "Lancaster Stemmer Result: ['thi', 'exampl', 'sent', 'without', 'punctu', '.']\n"
          ]
        }
      ]
    },
    {
      "cell_type": "code",
      "source": [
        "nltk.download('wordnet')\n",
        "from nltk.stem import WordNetLemmatizer\n",
        "\n",
        "lemmatizer = WordNetLemmatizer()\n",
        "\n",
        "lemmatized_words = [lemmatizer.lemmatize(word) for word in filtered_words]\n",
        "print(\"Lemmatized Result:\", lemmatized_words)\n"
      ],
      "metadata": {
        "colab": {
          "base_uri": "https://localhost:8080/"
        },
        "id": "PQSHXyBA8me0",
        "outputId": "4a3520fa-478e-4b18-ad49-6d03817e09e5"
      },
      "execution_count": 8,
      "outputs": [
        {
          "output_type": "stream",
          "name": "stderr",
          "text": [
            "[nltk_data] Downloading package wordnet to /root/nltk_data...\n"
          ]
        },
        {
          "output_type": "stream",
          "name": "stdout",
          "text": [
            "Lemmatized Result: ['This', 'example', 'sentence', 'without', 'punctuation', '.']\n"
          ]
        }
      ]
    },
    {
      "cell_type": "code",
      "source": [
        "Q3. Regular Expressions and Text Spliƫng\n",
        "1. Take their original text from QuesƟon 1.\n",
        "2. Use regular expressions to:\n",
        "a. Extract all words with more than 5 leƩers.\n",
        "b. Extract all numbers (if any exist in their text).\n",
        "c. Extract all capitalized words.\n",
        "3. Use text spliƫng techniques to:\n",
        "a. Split the text into words containing only alphabets (removing digits and special\n",
        "characters).\n",
        "b. Extract words starƟng with a vowel."
      ],
      "metadata": {
        "id": "6SjNY_K49ple"
      },
      "execution_count": null,
      "outputs": []
    },
    {
      "cell_type": "code",
      "source": [
        "import re\n",
        "\n",
        "# Extract all words with more than 5 letters\n",
        "words_5plus = re.findall(r'\\b\\w{6,}\\b', text)\n",
        "print(\"Words with more than 5 letters:\", words_5plus)\n",
        "\n",
        "# Extract all numbers\n",
        "numbers = re.findall(r'\\b\\d+\\b', text)\n",
        "print(\"Numbers:\", numbers)\n",
        "\n",
        "# Extract all capitalized words\n",
        "capitalized_words = re.findall(r'\\b[A-Z][a-z]*\\b', text)\n",
        "print(\"Capitalized Words:\", capitalized_words)\n",
        "# Split text into words containing only alphabets\n",
        "only_alpha_words = re.findall(r'\\b[a-zA-Z]+\\b', text)\n",
        "print(\"Alphabetic Words Only:\", only_alpha_words)\n",
        "\n",
        "# Extract words starting with vowels\n",
        "vowel_words = [word for word in only_alpha_words if word.lower().startswith(('a', 'e', 'i', 'o', 'u'))]\n",
        "print(\"Words starting with a vowel:\", vowel_words)\n"
      ],
      "metadata": {
        "colab": {
          "base_uri": "https://localhost:8080/"
        },
        "id": "pbmQdLdL8tPh",
        "outputId": "f1fba418-9243-42dc-f30e-254dd5e3f2f7"
      },
      "execution_count": 10,
      "outputs": [
        {
          "output_type": "stream",
          "name": "stdout",
          "text": [
            "Words with more than 5 letters: ['Technology', 'changed', 'interact', 'smartphones', 'artificial', 'intelligence', 'innovations', 'continue', 'revolutionize', 'aspect', 'particularly', 'fascinated', 'advancements', 'machine', 'learning', 'impact', 'industries', 'healthcare', 'education', 'evolution', 'technology', 'demands', 'continuously', 'future', 'believe', 'technology', 'bridge', 'between', 'humans', 'machines']\n",
            "Numbers: []\n",
            "Capitalized Words: ['Technology', 'From', 'I', 'The', 'In', 'I']\n",
            "Alphabetic Words Only: ['Technology', 'has', 'changed', 'the', 'way', 'we', 'live', 'work', 'and', 'interact', 'From', 'smartphones', 'to', 'artificial', 'intelligence', 'innovations', 'continue', 'to', 'revolutionize', 'every', 'aspect', 'of', 'our', 'lives', 'I', 'am', 'particularly', 'fascinated', 'by', 'advancements', 'in', 'machine', 'learning', 'and', 'how', 'they', 'impact', 'industries', 'like', 'healthcare', 'and', 'education', 'The', 'fast', 'paced', 'evolution', 'of', 'technology', 'demands', 'that', 'we', 'continuously', 'learn', 'and', 'adapt', 'In', 'the', 'future', 'I', 'believe', 'technology', 'will', 'bridge', 'even', 'more', 'gaps', 'between', 'humans', 'and', 'machines']\n",
            "Words starting with a vowel: ['and', 'interact', 'artificial', 'intelligence', 'innovations', 'every', 'aspect', 'of', 'our', 'I', 'am', 'advancements', 'in', 'and', 'impact', 'industries', 'and', 'education', 'evolution', 'of', 'and', 'adapt', 'In', 'I', 'even', 'and']\n"
          ]
        }
      ]
    },
    {
      "cell_type": "code",
      "source": [
        "Q4. Custom TokenizaƟon & Regex-based Text Cleaning\n",
        "1. Take original text from QuesƟon 1.\n",
        "2. Write a custom tokenizaƟon funcƟon that:\n",
        "a. Removes punctuaƟon and special symbols, but keeps contracƟons (e.g.,\n",
        "\"isn't\" should not be split into \"is\" and \"n't\").\n",
        "b. Handles hyphenated words as a single token (e.g., \"state-of-the-art\" remains\n",
        "a single token).\n",
        "c. Tokenizes numbers separately but keeps decimal numbers intact (e.g., \"3.14\"\n",
        "should remain as is).\n",
        "\n",
        "3. Use Regex SubsƟtuƟons (re.sub) to:\n",
        "a. Replace email addresses with '<EMAIL>' placeholder.\n",
        "b. Replace URLs with '<URL>' placeholder.\n",
        "c. Replace phone numbers (formats: 123-456-7890 or +91 9876543210) with\n",
        "'<PHONE>' placeholder."
      ],
      "metadata": {
        "id": "76d0Np1Z9wDd"
      },
      "execution_count": null,
      "outputs": []
    },
    {
      "cell_type": "code",
      "source": [
        "def custom_tokenize(text):\n",
        "    # Keep contractions and hyphenated words\n",
        "    tokens = re.findall(r\"\\b\\w+(?:[-']\\w+)*\\b|\\d+\\.\\d+|\\d+\", text)\n",
        "    return tokens\n",
        "\n",
        "custom_tokens = custom_tokenize(text)\n",
        "print(\"Custom Tokens:\", custom_tokens)\n",
        "def clean_text(text):\n",
        "    # Replace emails\n",
        "    text = re.sub(r'\\b[\\w.-]+?@\\w+?\\.\\w+?\\b', '<EMAIL>', text)\n",
        "    # Replace URLs\n",
        "    text = re.sub(r'http[s]?://\\S+', '<URL>', text)\n",
        "    # Replace phone numbers\n",
        "    text = re.sub(r'(\\+?\\d{1,2}\\s?)?(\\(?\\d{3}\\)?[-.\\s]?)\\d{3}[-.\\s]?\\d{4}', '<PHONE>', text)\n",
        "    return text\n",
        "\n",
        "cleaned_text = clean_text(text)\n",
        "print(\"Cleaned Text:\", cleaned_text)\n"
      ],
      "metadata": {
        "colab": {
          "base_uri": "https://localhost:8080/"
        },
        "id": "Rq47bPW-85Hv",
        "outputId": "463fac58-1bad-471f-a50e-6d132a7beeb0"
      },
      "execution_count": 12,
      "outputs": [
        {
          "output_type": "stream",
          "name": "stdout",
          "text": [
            "Custom Tokens: ['Technology', 'has', 'changed', 'the', 'way', 'we', 'live', 'work', 'and', 'interact', 'From', 'smartphones', 'to', 'artificial', 'intelligence', 'innovations', 'continue', 'to', 'revolutionize', 'every', 'aspect', 'of', 'our', 'lives', 'I', 'am', 'particularly', 'fascinated', 'by', 'advancements', 'in', 'machine', 'learning', 'and', 'how', 'they', 'impact', 'industries', 'like', 'healthcare', 'and', 'education', 'The', 'fast-paced', 'evolution', 'of', 'technology', 'demands', 'that', 'we', 'continuously', 'learn', 'and', 'adapt', 'In', 'the', 'future', 'I', 'believe', 'technology', 'will', 'bridge', 'even', 'more', 'gaps', 'between', 'humans', 'and', 'machines']\n",
            "Cleaned Text: Technology has changed the way we live, work, and interact.\n",
            " From smartphones to artificial intelligence, innovations continue to revolutionize every aspect of our lives.\n",
            " I am particularly fascinated by advancements in machine learning and how they impact industries like healthcare and education.\n",
            " The fast-paced evolution of technology demands that we continuously learn and adapt.\n",
            " In the future, I believe technology will bridge even more gaps between humans and machines.\n"
          ]
        }
      ]
    }
  ]
}